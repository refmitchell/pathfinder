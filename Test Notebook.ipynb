{
 "cells": [
  {
   "cell_type": "markdown",
   "metadata": {},
   "source": [
    "# Pathfinder Application#\n",
    "Author: Robert Mitchell (e: email to be filled in)\n",
    "\n",
    "## What does this software do? ##\n",
    "To be filled in...\n",
    "## What does this software not do?##\n",
    "## Usage ##\n",
    "Below you'll find a cell containing a configuration file. This allows you to change some global settings which will affect the display or functionality as well as configuring the cue layout for each \"roll\". Once your configuration is set up, click \"Cell -> Run All\" on the toolbar above. This will ensure your configuration is properly saved and run the software with that configuration. This should generate a sequence of plots showing the different 3D cue setups as well as the familiar 2D plots which follow the conventions of the literature. Try running the software without modifying the configuration, a basic demo scenario is set up by default.\n",
    "\n",
    "## The output ##\n"
   ]
  },
  {
   "cell_type": "markdown",
   "metadata": {},
   "source": [
    "## Configuration ##\n",
    "The configuration is stored in a separate configuration file which we can't currently open in Jupyter Notebooks (though I'm working on it). The default file is located at &lt;Project Root&gt;/config.yaml."
   ]
  },
  {
   "cell_type": "markdown",
   "metadata": {},
   "source": [
    "## Main: To run the application, execute the cell below."
   ]
  },
  {
   "cell_type": "code",
   "execution_count": 1,
   "metadata": {},
   "outputs": [],
   "source": [
    "configuration_file = \"config.yaml\""
   ]
  },
  {
   "cell_type": "code",
   "execution_count": 2,
   "metadata": {
    "scrolled": false
   },
   "outputs": [
    {
     "name": "stdout",
     "output_type": "stream",
     "text": [
      "Project root directory: /home/robert/phd/1/pathfinder/pathfinder\n",
      "Using configuration file: /home/robert/phd/1/pathfinder/pathfinder/config.yaml\n",
      "=== Optional configuration ===\n",
      "show-labels: True\n",
      "show-geometry: True\n",
      "show-individual: True\n",
      "combination-strategy: avg\n",
      "confidence-threshold: 0.2\n",
      "===============================\n",
      "\n",
      "Confidence in first cue: 0.5334586035196173\n",
      "Confidence in second cue: 1.414213562373095\n",
      "Absolute change in bearing: 180.0\n"
     ]
    }
   ],
   "source": [
    "# Do not edit this cell!\n",
    "%matplotlib qt\n",
    "from pathfinder.testbed.scratch import main\n",
    "main(configuration_file)"
   ]
  }
 ],
 "metadata": {
  "kernelspec": {
   "display_name": "Python 3",
   "language": "python",
   "name": "python3"
  },
  "language_info": {
   "codemirror_mode": {
    "name": "ipython",
    "version": 3
   },
   "file_extension": ".py",
   "mimetype": "text/x-python",
   "name": "python",
   "nbconvert_exporter": "python",
   "pygments_lexer": "ipython3",
   "version": "3.7.3"
  }
 },
 "nbformat": 4,
 "nbformat_minor": 2
}
