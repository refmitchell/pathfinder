{
 "cells": [
  {
   "cell_type": "markdown",
   "metadata": {},
   "source": [
    "# Pathfinder Application (Prototype)#\n",
    "Author: Robert Mitchell (e: email to be filled in)\n",
    "\n",
    "## What does this software do? ##\n",
    "To be filled in...\n",
    "## What does this software not do?##\n",
    "## Usage ##\n",
    "Below you'll find a cell containing a configuration file. This allows you to change some global settings which will affect the display or functionality as well as configuring the cue layout for each \"roll\". Once your configuration is set up, click \"Cell -> Run All\" on the toolbar above. This will ensure your configuration is properly saved and run the software with that configuration. This should generate a sequence of plots showing the different 3D cue setups as well as the familiar 2D plots which follow the conventions of the literature. Try running the software without modifying the configuration, a basic demo scenario is set up by default.\n",
    "\n",
    "## The output ##\n"
   ]
  },
  {
   "cell_type": "code",
   "execution_count": 12,
   "metadata": {},
   "outputs": [
    {
     "ename": "SyntaxError",
     "evalue": "invalid syntax (<ipython-input-12-52b3042e8273>, line 39)",
     "output_type": "error",
     "traceback": [
      "\u001b[0;36m  File \u001b[0;32m\"<ipython-input-12-52b3042e8273>\"\u001b[0;36m, line \u001b[0;32m39\u001b[0m\n\u001b[0;31m    settings:\u001b[0m\n\u001b[0m             ^\u001b[0m\n\u001b[0;31mSyntaxError\u001b[0m\u001b[0;31m:\u001b[0m invalid syntax\n"
     ]
    }
   ],
   "source": [
    "# Required for Jupyter notebook compatibility; DO NOT EDIT\n",
    "%%writefile pathfinder/config.yaml\n",
    "# %load pathfinder/config.yaml\n",
    "# Pathfinder configuration file\n",
    "\n",
    "# Supported cues:\n",
    "# light, requires a strength, elevation, and azimuth\n",
    "# wind, requires a strength and a direction\n",
    "\n",
    "# Example cue configuration\n",
    "# cues:\n",
    "#   light-0:\n",
    "#     strength: 1\n",
    "#     elevation: 45\n",
    "#     azimuth: 90\n",
    "#   wind-0:\n",
    "#     strength: 1\n",
    "#     direction: 45\n",
    "#\n",
    "\n",
    "# Stuff to note:\n",
    "# All cues need a number (e.g. light-0) because their names have to be unique.\n",
    "# All cues have to contain their type (e.g. wind, or light) so that the parser knows\n",
    "# what objects to create.\n",
    "# File structure is important, BACKUP THIS FILE in case it gets corrupted. None of the\n",
    "# structure is error checked so I don't know how it will behave if the structure is\n",
    "# wrong!\n",
    "# Only valid parameter types will be incorporated, invalid ones will be ignored.\n",
    "\n",
    "#\n",
    "# Make your changes below\n",
    "# \n",
    "\n",
    "#\n",
    "# First roll setup\n",
    "#\n",
    "\n",
    "# Optional settings (must be configured for both rolls independently!)\n",
    "settings:\n",
    "  # Display\n",
    "  # Valid: True, False\n",
    "  show-labels: False     # Show a label for each cue (matches the name given below)\n",
    "  show-geometry: True   # Show the true geometric vectors used for cue computation.\n",
    "  show-individual: False # Show the directional prompt for each individual cue as well as the combined.\n",
    "\n",
    "  ### Beetle ###\n",
    "  # Set combination strategy (\"avg\" will be the default if none configured)\n",
    "  # Valid:\n",
    "  # avg: The vector average of all cues as the resultant cue.\n",
    "  # wta: \"Winner-take-all\", the strongest cue is used as the resultant cue.\n",
    "  combination-strategy: \"avg\"\n",
    "\n",
    "  # Minimum \"confidence\" required to provide successful menotaxis, default is 0\n",
    "  # Valid: x, where 0 <= x <= 1.\n",
    "  confidence-threshold: 0.2\n",
    "\n",
    "# Mandatory (if the cues section is not present the software will not work)\n",
    "cues-roll-one:\n",
    "  light-0:\n",
    "    strength: 1\n",
    "    elevation: 45\n",
    "    azimuth: 45\n",
    "\n",
    "#\n",
    "# Second roll setup\n",
    "#\n",
    "cues-roll-two:\n",
    "  light-0:\n",
    "    strength: 1\n",
    "    elevation: 45\n",
    "    azimuth: 225\n",
    "\n"
   ]
  },
  {
   "cell_type": "markdown",
   "metadata": {},
   "source": [
    "## Main: To run the application, execute the cell below."
   ]
  },
  {
   "cell_type": "code",
   "execution_count": 13,
   "metadata": {
    "scrolled": false
   },
   "outputs": [
    {
     "name": "stdout",
     "output_type": "stream",
     "text": [
      "Project root directory: /home/robert/phd/1/pathfinder/pathfinder\n",
      "Using configuration file: /home/robert/phd/1/pathfinder/pathfinder/config.yaml\n",
      "=== Optional configuration ===\n",
      "show-labels: False\n",
      "show-geometry: True\n",
      "show-individual: False\n",
      "combination-strategy: avg\n",
      "confidence-threshold: 0.2\n",
      "===============================\n",
      "\n",
      "Confidence in first cue: 0.7071067811865475\n",
      "Confidence in second cue: 0.7071067811865475\n",
      "Absolute change in bearing: 180.0\n"
     ]
    }
   ],
   "source": [
    "# Do not edit this cell!\n",
    "%matplotlib qt\n",
    "from pathfinder.testbed.scratch import main\n",
    "main()"
   ]
  },
  {
   "cell_type": "code",
   "execution_count": null,
   "metadata": {},
   "outputs": [],
   "source": []
  }
 ],
 "metadata": {
  "kernelspec": {
   "display_name": "Python 3",
   "language": "python",
   "name": "python3"
  },
  "language_info": {
   "codemirror_mode": {
    "name": "ipython",
    "version": 3
   },
   "file_extension": ".py",
   "mimetype": "text/x-python",
   "name": "python",
   "nbconvert_exporter": "python",
   "pygments_lexer": "ipython3",
   "version": "3.7.4"
  }
 },
 "nbformat": 4,
 "nbformat_minor": 2
}
