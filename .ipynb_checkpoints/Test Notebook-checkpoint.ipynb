{
 "cells": [
  {
   "cell_type": "markdown",
   "metadata": {},
   "source": [
    "# Pathfinder Application#\n",
    "Author: Robert Mitchell (e: email to be filled in)\n",
    "\n",
    "## Usage ##\n",
    "The software must be configured (via a configuration file) before it can be run. The configuration information is stored in a separate configuration file which we can't currently open in Jupyter Notebooks (though I'm working on it). The default file is located at &lt;Project Root&gt;/pathfinder/configurations/config.yaml. The file is written in the YAML format (https://yaml.org/) and an example is shown below (see Configuration). Once the configuration is complete the software can be run from here by selecting \"Cell -> Run All\" from the menu above. The software will display four plots:\n",
    "\n",
    "![Example plot](img/ExamplePlot.png)\n",
    "\n",
    "This image was generated using the example configuration file below. We simulate the scenario where the beetle performs two rolls and the cue placement is changed for the second roll. The first roll is shown in the left column and the second in the right. The top row shows a 3D representation of the world which can be rotated (left-click and drag) and enlarged (right-click and drag up/down) allowing the user to see the 3D spatial relationship of the different cues. The bottom row shows a top-down view similar to those commonly used in the literature which gives a clear image of the simulated beetle's chosen direction in both rolls and how they differ. Legends are provided per row. Terminal output is also given with the exact numbers. In the first roll the simulated beetle always choses to move towards 0$^{\\circ}$ (mimicking the angular normalisation commonly used in the literature) which allows us to see the bearing change clearly on the graph. The radii of the hemispheres and circles are all 1.\n",
    "\n",
    "## How does the beetle get its bearing? \n",
    "The beetle always uses a single ***combined cue*** to determine its bearing. All cues present will be combined by using a ***combination strategy***. Every cue is represented in software by two vectors: the ***world vector*** which describes the cue's position in the 3D world and the ***geometry vector*** which provides the true geometric description of the cue which is used to determine the combined cue. As a quick example of the distinction, consider two point-source light cues (green orbs) in the following image:\n",
    "\n",
    "![Geometry Vector Example](img/GeoVectorExamples.png)\n",
    "\n",
    "In the image light-0 is twice as strong as light-1, however it wouldn't make sense to draw light-0 twice as far away. The geometry vectors (grey) show the vectors which will actually be combined to generate the combined cue (red). In this case the combination strategy takes the mean of all cues. Finally, the combined cue is **always** taken as the projection of the result of the combination strategy onto the ground as this gives us a direction reference as well as a measure of ***confidence*** intrinsic to the combined cue (its magnitude).\n",
    "\n",
    "## Configuration\n",
    "Configuration is performed via an external YAML file (see Usage) at &lt;Project Root&gt;/pathfinder/configurations/config.yaml. A copy of the default configuration file is shown below."
   ]
  },
  {
   "cell_type": "raw",
   "metadata": {},
   "source": [
    "# Pathfinder configuration file\n",
    "\n",
    "# Optional settings: These all have defaults and none need be explicitly specified.\n",
    "settings:\n",
    "  ### Display settings ###\n",
    "  # Valid: True, False\n",
    "\n",
    "  # Show a label for each cue (matches the name given below) (Default: False)\n",
    "  show-labels: False\n",
    "\n",
    "  # Show the true (scaled - see below) geometric vectors used for cue computation. (Default: False)\n",
    "  show-geometry: False\n",
    "\n",
    "  # Show the directional prompt for each individual cue as well as the combined. (Default: False)\n",
    "  show-individual: False\n",
    "\n",
    "  # Minimum \"confidence\" required to provide successful menotaxis. (Default: 0)\n",
    "  # Valid: x, where 0 <= x <= 1.\n",
    "  confidence-threshold: 0\n",
    "\n",
    "  ### Beetle settings ###\n",
    "  # Set combination strategy (Default: \"avg\")\n",
    "  # Valid: avg, wta\n",
    "  combination-strategy: \"avg\"\n",
    "\n",
    "  # Specify the scaling applied to each cue. The number given is applied as a direct multiplier to the cue strength\n",
    "  # for each cue of the appropriate type. For example, if we want to see what would happen if the beetle is twice as\n",
    "  # sensitive to wind as it is to light we could use:\n",
    "  #  cue-strength-scaling:\n",
    "  #    light: 1\n",
    "  #    wind: 2\n",
    "  # (Default: 1)\n",
    "  # Valid: Any positive real number. Negatives will be replaced by Default value.\n",
    "  # This may be used as an amplification factor, a weighting factor, or a way to specify cue hierarchy. The\n",
    "  # interpretation and usage is up to the user.\n",
    "  cue-strength-scaling:\n",
    "    light: 1\n",
    "    wind: 1\n",
    "\n",
    "# Mandatory configuration: cues for each roll must be specified.\n",
    "# Supported:\n",
    "#   light: requires a strength, elevation, and azimuth\n",
    "#   wind: requires a strength and a direction\n",
    "\n",
    "### Roll one ###\n",
    "cues-roll-one:\n",
    "  light-0:\n",
    "    elevation: 45\n",
    "    azimuth: 45\n",
    "\n",
    "  wind-0:\n",
    "    strength: 1\n",
    "    direction: 45\n",
    "\n",
    "### Roll two ###\n",
    "cues-roll-two:\n",
    "  light-0:\n",
    "    strength: 1\n",
    "    elevation: 45\n",
    "    azimuth: 225\n",
    "\n",
    "  wind-0:\n",
    "    strength: 1\n",
    "    direction: 45\n"
   ]
  },
  {
   "cell_type": "markdown",
   "metadata": {},
   "source": [
    "All values under 'settings' have default values and may be ommitted if desired. Both cues-roll-one and cues-roll-two must be defined and each must contain at least one cue (scope is defined by indentation, see https://yaml.org). Currently, only light and wind cues are supported. Light cues require elevation, azimuth, and strength to be specified. Wind cues require strength and direction. Each cue must contain its type in its name and each cue must be uniquely named for each roll (you cannot have light-0 twice for roll one). The easiest way to do this is to name them: light-0, light-1, etc. It should be noted that any cue name is legal so long as it contains the type of the cue (e.g. \"bright-light\" would also be allowed) but for simplicity I stick to simply indexing the names."
   ]
  },
  {
   "cell_type": "markdown",
   "metadata": {},
   "source": [
    "## Main: To run the application, execute the cells below."
   ]
  },
  {
   "cell_type": "code",
   "execution_count": 1,
   "metadata": {},
   "outputs": [],
   "source": [
    "configuration_file = \"config.yaml\""
   ]
  },
  {
   "cell_type": "code",
   "execution_count": 2,
   "metadata": {
    "scrolled": false
   },
   "outputs": [
    {
     "name": "stdout",
     "output_type": "stream",
     "text": [
      "Project root directory: /home/robert/phd/1/pathfinder/pathfinder\n",
      "Using configuration file: /home/robert/phd/1/pathfinder/pathfinder/config.yaml\n",
      "=== Optional configuration ===\n",
      "show-labels: True\n",
      "show-geometry: True\n",
      "show-individual: True\n",
      "combination-strategy: avg\n",
      "confidence-threshold: 0.2\n",
      "===============================\n",
      "\n",
      "Confidence in first cue: 0.5334586035196173\n",
      "Confidence in second cue: 1.414213562373095\n",
      "Absolute change in bearing: 180.0\n"
     ]
    }
   ],
   "source": [
    "# Do not edit this cell!\n",
    "%matplotlib qt\n",
    "from pathfinder.testbed.scratch import main\n",
    "main(configuration_file)"
   ]
  }
 ],
 "metadata": {
  "kernelspec": {
   "display_name": "Python 3",
   "language": "python",
   "name": "python3"
  },
  "language_info": {
   "codemirror_mode": {
    "name": "ipython",
    "version": 3
   },
   "file_extension": ".py",
   "mimetype": "text/x-python",
   "name": "python",
   "nbconvert_exporter": "python",
   "pygments_lexer": "ipython3",
   "version": "3.7.4"
  }
 },
 "nbformat": 4,
 "nbformat_minor": 2
}
