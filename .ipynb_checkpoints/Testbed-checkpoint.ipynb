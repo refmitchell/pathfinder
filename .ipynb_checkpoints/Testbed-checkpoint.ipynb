{
 "cells": [
  {
   "cell_type": "markdown",
   "metadata": {},
   "source": [
    "# GUI Test\n",
    "\n",
    "**IMPORTANT:** This example requires an additional library, do `$: conda install ipywidgets` in addition to the standard installation. Not included this library in the standard install as this is a prototype.\n",
    "\n",
    "This is a quick test using IPython widgets to implement controls for the plots. I've disabled the standard terminal output as it needs re-arranged to fit with the widget elements, at the minute it's in the way. The specific controls were chosen as they fit best with the data type in my view, open to suggestions. \n",
    "\n",
    "Run the code cell below and the controls/plot will appear, after that you need only use the controls."
   ]
  },
  {
   "cell_type": "code",
   "execution_count": 8,
   "metadata": {},
   "outputs": [
    {
     "data": {
      "application/vnd.jupyter.widget-view+json": {
       "model_id": "2e390c7041de48e0802924e31513e815",
       "version_major": 2,
       "version_minor": 0
      },
      "text/plain": [
       "interactive(children=(Checkbox(value=False, description='Show individual cues '), Checkbox(value=False, descri…"
      ]
     },
     "metadata": {},
     "output_type": "display_data"
    },
    {
     "data": {
      "application/vnd.jupyter.widget-view+json": {
       "model_id": "2024433147484f929b69403804020744",
       "version_major": 2,
       "version_minor": 0
      },
      "text/plain": [
       "interactive(children=(Output(),), _dom_classes=('widget-interact',))"
      ]
     },
     "metadata": {},
     "output_type": "display_data"
    }
   ],
   "source": [
    "# Testing a plot configurable via graphical widgets\n",
    "\n",
    "# Import the required widget resources\n",
    "from ipywidgets import interact, Layout\n",
    "import ipywidgets as w\n",
    "\n",
    "# Import pathfinder link with jupyter input\n",
    "from pathfinder.runnable.wind_and_light import get_input_from_jupyter\n",
    "\n",
    "%matplotlib notebook\n",
    "\n",
    "config_dict = dict()\n",
    "\n",
    "# Define the interactive control widgets\n",
    "@interact(\n",
    "        show_individual=w.Checkbox(value=False, description=\"Show individual cues \"),\n",
    "        show_sensory=w.Checkbox(value=False, description=\"Show sensory vectors \"),\n",
    "        combination_strategy=w.Dropdown(\n",
    "            options=[\"avg\", \"wta\"],\n",
    "            value=\"avg\",\n",
    "            description=\"Combination strategy: \",\n",
    "            layout=Layout(width='50%'),\n",
    "            style={\"description_width\": \"initial\"}),\n",
    "        confidence_threshold = w.BoundedFloatText(\n",
    "            value=0.14,\n",
    "            min=0,\n",
    "            max=1,\n",
    "            step=0.01,\n",
    "            description=\"Confidence threshold: \",\n",
    "            layout=Layout(width='50%'),\n",
    "            style={\"description_width\": \"initial\"}\n",
    "        ),\n",
    "        light_strength_one = w.FloatText(\n",
    "            value=1,\n",
    "            step=0.01,\n",
    "            description=\"Roll one - light strength: \",\n",
    "            layout=Layout(width='50%'),\n",
    "            style={\"description_width\": \"initial\"}\n",
    "        ),\n",
    "        light_strength_two = w.FloatText(\n",
    "            value=1,\n",
    "            step=0.01,\n",
    "            description=\"Roll two - light strength: \",\n",
    "            layout=Layout(width='50%'),\n",
    "            style={\"description_width\": \"initial\"}\n",
    "        ),\n",
    "        light_elevation_one=w.FloatSlider(\n",
    "            value=45,\n",
    "            min=0,\n",
    "            max=90,\n",
    "            step=0.1,\n",
    "            description=\"Roll one - light elevation: \",\n",
    "            layout=Layout(width='50%'),\n",
    "            style={\"description_width\": \"initial\"}),\n",
    "        light_elevation_two=w.FloatSlider(\n",
    "            value=45,\n",
    "            min=0,\n",
    "            max=90,\n",
    "            step=0.1,\n",
    "            description=\"Roll two - light elevation: \",\n",
    "            layout=Layout(width='50%'),\n",
    "            style={\"description_width\": \"initial\"}),\n",
    "        light_azimuth_one=w.FloatSlider(\n",
    "            value=45,\n",
    "            min=-180,\n",
    "            max=180,\n",
    "            step=0.1,\n",
    "            description=\"Roll one - light azimuth: \",\n",
    "            layout=Layout(width='50%'),\n",
    "            style={\"description_width\": \"initial\"}),\n",
    "        light_azimuth_two=w.FloatSlider(\n",
    "            value=45,\n",
    "            min=-180,\n",
    "            max=180,\n",
    "            step=0.1,\n",
    "            description=\"Roll two - light azimuth: \",\n",
    "            layout=Layout(width='50%'),\n",
    "            style={\"description_width\": \"initial\"}),\n",
    "        wind_strength_one=w.FloatText(\n",
    "            value=1,\n",
    "            step=0.01,\n",
    "            description=\"Roll one - wind strength: \",\n",
    "            layout=Layout(width='50%'),\n",
    "            style={\"description_width\": \"initial\"}\n",
    "        ),\n",
    "        wind_strength_two=w.FloatText(\n",
    "            value=1,\n",
    "            step=0.01,\n",
    "            description=\"Roll two - wind strength: \",\n",
    "            layout=Layout(width='50%'),\n",
    "            style={\"description_width\": \"initial\"}\n",
    "        ),\n",
    "        wind_direction_one=w.FloatSlider(\n",
    "            value=90,\n",
    "            min=-180,\n",
    "            max=180,\n",
    "            step=0.1,\n",
    "            description=\"Roll one - wind direction: \",\n",
    "            layout=Layout(width='50%'),\n",
    "            style={\"description_width\": \"initial\"}),\n",
    "        wind_direction_two = w.FloatSlider(\n",
    "            value=90,\n",
    "            min=-180,\n",
    "            max=180,\n",
    "            step=0.1,\n",
    "            description=\"Roll one - wind direction: \",\n",
    "            layout=Layout(width='50%'),\n",
    "            style={\"description_width\": \"initial\"})\n",
    ")\n",
    "# Define a function to pack the widget data into a YAML compliant dictionary\n",
    "# which can be prossessed by the software.\n",
    "def update_config(\n",
    "        show_individual,\n",
    "        show_sensory,\n",
    "        combination_strategy,\n",
    "        confidence_threshold,\n",
    "        light_strength_one,\n",
    "        light_strength_two,\n",
    "        light_elevation_one,\n",
    "        light_elevation_two,\n",
    "        light_azimuth_one,\n",
    "        light_azimuth_two,\n",
    "        wind_strength_one,\n",
    "        wind_strength_two,\n",
    "        wind_direction_one,\n",
    "        wind_direction_two\n",
    "):\n",
    "    config_dict = {\n",
    "      \"settings\" : {\n",
    "        \"show-individual\" : show_individual,\n",
    "        \"show-geometry\" : show_sensory,\n",
    "        \"combination-strategy\" : combination_strategy,\n",
    "        \"confidence-threshold\" : confidence_threshold\n",
    "      },\n",
    "      \"cues-roll-one\" : {\n",
    "         \"light-0\" : {\n",
    "             \"strength\" : light_strength_one,\n",
    "             \"elevation\" : light_elevation_one,\n",
    "             \"azimuth\" : light_azimuth_one\n",
    "         },\n",
    "         \"wind-0\" : {\n",
    "             \"strength\" : wind_strength_one,\n",
    "             \"direction\" : wind_direction_one\n",
    "         }\n",
    "      },\n",
    "      \"cues-roll-two\" : {\n",
    "         \"light-0\" : {\n",
    "             \"strength\" : light_strength_two,\n",
    "             \"elevation\" : light_elevation_two,\n",
    "             \"azimuth\" : light_azimuth_two\n",
    "         },\n",
    "         \"wind-0\" : {\n",
    "             \"strength\" : wind_strength_two,\n",
    "             \"direction\" : wind_direction_two\n",
    "         }\n",
    "      }\n",
    "    }\n",
    "    \n",
    "@interact\n",
    "def run():\n",
    "    get_input_from_jupyter(config_dict)"
   ]
  },
  {
   "cell_type": "code",
   "execution_count": 3,
   "metadata": {},
   "outputs": [
    {
     "data": {
      "application/vnd.jupyter.widget-view+json": {
       "model_id": "e6af1e47cd13471ead336cc7ecadddbf",
       "version_major": 2,
       "version_minor": 0
      },
      "text/plain": [
       "interactive(children=(Checkbox(value=False, description='Show individual cues '), Checkbox(value=False, descri…"
      ]
     },
     "metadata": {},
     "output_type": "display_data"
    }
   ],
   "source": [
    "%matplotlib notebook\n",
    "from pathfinder.runnable.wind_and_light import generate_controls\n",
    "controls = generate_controls()\n",
    "display(controls)"
   ]
  },
  {
   "cell_type": "code",
   "execution_count": null,
   "metadata": {},
   "outputs": [],
   "source": []
  }
 ],
 "metadata": {
  "kernelspec": {
   "display_name": "Python 3",
   "language": "python",
   "name": "python3"
  },
  "language_info": {
   "codemirror_mode": {
    "name": "ipython",
    "version": 3
   },
   "file_extension": ".py",
   "mimetype": "text/x-python",
   "name": "python",
   "nbconvert_exporter": "python",
   "pygments_lexer": "ipython3",
   "version": "3.7.4"
  }
 },
 "nbformat": 4,
 "nbformat_minor": 2
}
