{
 "cells": [
  {
   "cell_type": "markdown",
   "metadata": {},
   "source": [
    "# Pathfinder Application (Wind and Light)\n",
    "\n",
    "Author: R. Mitchell (email: s1432329@sms.ed.ac.uk)\n",
    "\n",
    "### Feedback\n",
    "Questions, comments, suggestions, or requests for functionality are welcome and can be sent to the email address above. This tool will continue development on an 'as-required' basis (i.e. I will add features when I need them, or when somebody asks me for them)!\n",
    "\n",
    "### What is this?\n",
    "This is a streamlined version of the Pathfinder application which provides easy configuration for a single light cue and a single wind cue to match the current experimental setup. This version does **not** require any use of configuration files, everything can be done from within the notebook (though configuration is more limited). If you want to create more general/complicated simulations, please use the 'General' notebook.\n",
    "\n",
    "The software mimics the tests from the sky-compass literature whereby the beetle is placed in the centre of an arena, presented with cues, and allowed to roll to the edge of an arena; the cues may then be changed for the second roll and the absolute change in bearing recorded.\n",
    "\n",
    "### Usage\n",
    "**Will probably change this to sliders.**\n",
    "\n",
    "The software will produce a scenario with a single wind cue and a single light cue. Their position and strength can be modified by editing the code cell below (section marked configuration). Light requires strength, azimuth, and elevation parameters, wind requires strength and direction parameters. A subset of the optional configuration options are provided. For details please see the explanations provided below or the 'General' notebook. To run the application, execute the code cell below (select it then choose Cell -> Run Cells from the menu above or press shift + enter). Plots will be displayed within the notebook. \n"
   ]
  },
  {
   "cell_type": "code",
   "execution_count": 1,
   "metadata": {},
   "outputs": [
    {
     "data": {
      "application/vnd.jupyter.widget-view+json": {
       "model_id": "91d48844ca8d40ffa733298cb97bb2d2",
       "version_major": 2,
       "version_minor": 0
      },
      "text/plain": [
       "interactive(children=(Checkbox(value=False, description='Show individual cues '), Checkbox(value=False, descri…"
      ]
     },
     "metadata": {},
     "output_type": "display_data"
    }
   ],
   "source": [
    "%matplotlib notebook\n",
    "from pathfinder.runnable.wind_and_light import generate_controls\n",
    "from IPython.display import display\n",
    "controls = generate_controls()\n",
    "display(controls)"
   ]
  },
  {
   "cell_type": "code",
   "execution_count": null,
   "metadata": {},
   "outputs": [],
   "source": []
  }
 ],
 "metadata": {
  "kernelspec": {
   "display_name": "Python 3",
   "language": "python",
   "name": "python3"
  },
  "language_info": {
   "codemirror_mode": {
    "name": "ipython",
    "version": 3
   },
   "file_extension": ".py",
   "mimetype": "text/x-python",
   "name": "python",
   "nbconvert_exporter": "python",
   "pygments_lexer": "ipython3",
   "version": "3.7.4"
  }
 },
 "nbformat": 4,
 "nbformat_minor": 2
}
