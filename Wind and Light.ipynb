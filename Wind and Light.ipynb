{
 "cells": [
  {
   "cell_type": "markdown",
   "metadata": {},
   "source": [
    "# Pathfinder Application (Wind and Light)\n",
    "\n",
    "Author: R. Mitchell (email: s1432329@sms.ed.ac.uk)\n",
    "\n",
    "### Feedback\n",
    "Questions, comments, suggestions, or requests for functionality are welcome and can be sent to the email address above. This tool will continue development on an 'as-required' basis (i.e. I will add features when I need them, or when somebody asks me for them)!\n",
    "\n",
    "### What is this?\n",
    "This is a streamlined version of the Pathfinder application which provides easy configuration for a single light cue and a single wind cue to match the current experimental setup. This version does **not** require any use of configuration files, everything can be done from within the notebook (though configuration is more limited). If you want to create more general/complex simulation scenarios, please see the 'General' notebook.\n",
    "\n",
    "The software mimics the tests from the sky-compass literature whereby the beetle is placed in the centre of an arena, presented with cues, and allowed to roll to the edge of an arena; the cues may then be changed for the second roll and the absolute change in bearing recorded.\n",
    "\n",
    "### Usage\n",
    "Start by running the code cell below, this will initialise the software and generate a series of graphical controls. You can use the controls to configure the cues. Once you've configured the software, click 'Run Interact' to generate a plot. If you want to change the scenario, simply modify the configuration using the graphical controls and click 'Run Interact' again. A more detailed control reference can be found below but they should be largely self explanatory."
   ]
  },
  {
   "cell_type": "code",
   "execution_count": 1,
   "metadata": {},
   "outputs": [
    {
     "data": {
      "application/vnd.jupyter.widget-view+json": {
       "model_id": "ef23d74c34524a529869f7765087d508",
       "version_major": 2,
       "version_minor": 0
      },
      "text/plain": [
       "interactive(children=(Checkbox(value=False, description='Show individual cues '), Checkbox(value=False, descri…"
      ]
     },
     "metadata": {},
     "output_type": "display_data"
    }
   ],
   "source": [
    "# Run this cell!\n",
    "%matplotlib notebook\n",
    "from pathfinder.runnable.wind_and_light import generate_controls\n",
    "from IPython.display import display\n",
    "controls = generate_controls()\n",
    "display(controls)"
   ]
  },
  {
   "cell_type": "markdown",
   "metadata": {},
   "source": [
    "### Control reference\n",
    "#### Switches/checkboxes\n",
    "Three checkboxes are provided:\n",
    "* Show individual cues: when enabled this will show the directional reference given by each individual cue (this can be a nice way of visualising the relative weight of each cue)\n",
    "* Enable/disable the legend: the legend positioning is not consistent as the plots are resized so they can occassionally obscure the plot. Checking this box will turn the legend on. I find the legends useful for reference but annoying once you know what the plot is showing.\n",
    "* Show sensory vectors: sensory vectors are the true geometric representation of the cues which indicate how the simulated beetle perceives the cues. These can be visualised by enabling this setting. For more information please see the General notebook (section \"How does the beetle get its bearing?\").\n",
    "\n",
    "#### Generic settings\n",
    "* Combination strategy: this defines the method used to combine the cues; currently implemented are:\n",
    "    * avg: simply take the average; and,\n",
    "    * wta: winner take all, the strongest cue wins (no decision can be made if there are multiple strongest.\n",
    "  \n",
    "  There are any number of strategies that could be implemented, these are simply the ones that I added during development. Again, see \"How does the beetle get its bearing?\" in the General notebook for more information.\n",
    "  \n",
    "* Confidence threshold: this represents the minimum magnitude required from the combined cue vector. If the magnitude of the combined cue is less than this threshold we can assume that the beetle would not actually have enough information to orient itself and discard the change in bearing. The default value was chosen based on the contrast experiments from \"Stellar performance: Mechanisms underlying milky way orientation in dung beetles\" (*Foster et al. 2017*). \n",
    "\n",
    "#### Cue setings\n",
    "Finally we provide individual cue configuration for each roll of the beetle. Each roll has a single light cue and some wind. For the light we can alter the strength, elevation, and azimuth. For the wind we can alter its strength and direction."
   ]
  },
  {
   "cell_type": "code",
   "execution_count": null,
   "metadata": {},
   "outputs": [],
   "source": []
  }
 ],
 "metadata": {
  "kernelspec": {
   "display_name": "Python 3",
   "language": "python",
   "name": "python3"
  },
  "language_info": {
   "codemirror_mode": {
    "name": "ipython",
    "version": 3
   },
   "file_extension": ".py",
   "mimetype": "text/x-python",
   "name": "python",
   "nbconvert_exporter": "python",
   "pygments_lexer": "ipython3",
   "version": "3.7.4"
  }
 },
 "nbformat": 4,
 "nbformat_minor": 2
}
