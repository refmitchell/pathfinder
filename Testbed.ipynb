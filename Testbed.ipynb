{
 "cells": [
  {
   "cell_type": "markdown",
   "metadata": {},
   "source": [
    "# GUI Test\n",
    "\n",
    "**IMPORTANT:** This example requires an additional library, do `$: conda install ipywidgets` in addition to the standard installation. Not included this library in the standard install as this is a prototype.\n",
    "\n",
    "This is a quick test using IPython widgets to implement controls for the plots. I've disabled the standard terminal output as it needs re-arranged to fit with the widget elements, at the minute it's in the way. The specific controls were chosen as they fit best with the data type in my view, open to suggestions. \n",
    "\n",
    "Run the code cell below to generate the control panel. Configure them as desired then click 'Run Interact' to generate an inline plot. You'll need to run the interact manually each time you change the configuration. Live updates are possible but they cause the plot to flicker horribly and delay loading in."
   ]
  },
  {
   "cell_type": "code",
   "execution_count": 1,
   "metadata": {},
   "outputs": [
    {
     "data": {
      "application/vnd.jupyter.widget-view+json": {
       "model_id": "2fe1c4dc101141bb886f351222617708",
       "version_major": 2,
       "version_minor": 0
      },
      "text/plain": [
       "interactive(children=(Checkbox(value=False, description='Show individual cues '), Checkbox(value=False, descri…"
      ]
     },
     "metadata": {},
     "output_type": "display_data"
    }
   ],
   "source": [
    "%matplotlib notebook\n",
    "from pathfinder.runnable.wind_and_light import generate_controls\n",
    "controls = generate_controls()\n",
    "display(controls)"
   ]
  },
  {
   "cell_type": "code",
   "execution_count": null,
   "metadata": {},
   "outputs": [],
   "source": []
  }
 ],
 "metadata": {
  "kernelspec": {
   "display_name": "Python 3",
   "language": "python",
   "name": "python3"
  },
  "language_info": {
   "codemirror_mode": {
    "name": "ipython",
    "version": 3
   },
   "file_extension": ".py",
   "mimetype": "text/x-python",
   "name": "python",
   "nbconvert_exporter": "python",
   "pygments_lexer": "ipython3",
   "version": "3.7.4"
  }
 },
 "nbformat": 4,
 "nbformat_minor": 2
}
