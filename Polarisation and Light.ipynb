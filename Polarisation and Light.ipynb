{
 "cells": [
  {
   "cell_type": "markdown",
   "metadata": {},
   "source": [
    "# Pathfinder Application (Polarisation and Light)\n",
    "\n",
    "Author: R. Mitchell (email: s1432329@sms.ed.ac.uk)\n",
    "\n",
    "### Feedback\n",
    "Questions, comments, suggestions, or requests for functionality are welcome and can be sent to the email address above. This tool will continue development on an 'as-required' basis (i.e. I will add features when I need them, or when somebody asks me for them)!\n",
    "\n",
    "### What is this?\n",
    "This is a streamlined version of the Pathfinder application (similar to the Wind and Light notebook) which provides a single light cue and a single polarisation cue. This version does **not** require using any use of configuration files and can be configured entirely within the notebook. If you want to create more general/complex scenarios, please see the 'General' notebook.\n",
    "\n",
    "The software mimics the tests from the sky-compass literature whereby the beetle is placed in the centre of an arena, presented with cues, and allowed to roll to the edge of an arena; the cues may then be changed for the second roll and the absolute change in bearing recorded.\n",
    "\n",
    "### Polarisation as a cue\n",
    "Skylight polarisation is often treated as being mirrored or ambiguous about 180$^\\circ$; the synthetic polarisation filters used in behavioural experiments are ambiguous, however the real skylight pattern may in fact give information about the full 360$^\\circ$. Recent work by *Gkanais et al.* has shown that the bimodal results often observed are likely a cause of methodology rather than ambiguity in the natural polarisation pattern. Given that most dung beetle orientation results discussing polarisation as a cue use polarising filters the cue included in the Pathfinder application is designed to mimic the filter rather than the natural skylight pattern (it is treated as ambiguous). \n",
    "\n",
    "#### Display\n",
    "The polarisation cue is displayed as a bi-directional magenta arrow at the top of the world. The line indicates the axis of the polarsation filter (i.e. the axis of ambiguity).\n",
    "\n",
    "![Polarisation Example](img/PolarisationExample.png)\n",
    "\n",
    "#### Interpretation\n",
    "It is useful to understand how the polarisation cue is integrated in different strategies. The rest of the cues are implemented simply as vectors which can be combined but due to its bidirectional ambiguity a polarisation filter is slightly more complex.\n",
    "\n",
    "**avg:** When takeing the average of all available cues the other cues are used to disambiguate the polarisation cue. We compare the average cue with either of the two possible directions and take the one which gives the strongest response.\n",
    "\n",
    "**wta:** Winner Take All relies on finding a single strongest cue. If the polarisation cue as the greatest (raw) strength then we pick one of the two possible directions uniform randomly. \n",
    "\n",
    "**proj_wta:** If the projected polarisation cue is strongest of the projected cues then again we pick one of the two possible directions uniform randomly to use as the reference.\n",
    "\n",
    "### Usage\n",
    "Start by running the code cell below, this will initialise the software and generate a series of graphical controls. You can use the controls to configure the cues. Once you've configured the software, click 'Run Interact' to generate a plot. If you want to change the scenario, simply modify the configuration using the graphical controls and click 'Run Interact' again. A more detailed control reference can be found below but they should be largely self explanatory."
   ]
  },
  {
   "cell_type": "code",
   "execution_count": 1,
   "metadata": {},
   "outputs": [
    {
     "data": {
      "application/vnd.jupyter.widget-view+json": {
       "model_id": "abc5926404a94603b358f77aa258a2a5",
       "version_major": 2,
       "version_minor": 0
      },
      "text/plain": [
       "interactive(children=(Checkbox(value=False, description='Show individual cues '), Checkbox(value=False, descri…"
      ]
     },
     "metadata": {},
     "output_type": "display_data"
    }
   ],
   "source": [
    "# Run this cell!\n",
    "%matplotlib notebook\n",
    "from pathfinder.runnable.pol_and_light import generate_controls\n",
    "from IPython.display import display\n",
    "controls = generate_controls()\n",
    "display(controls)"
   ]
  },
  {
   "cell_type": "markdown",
   "metadata": {},
   "source": [
    "### Control reference\n",
    "#### Switches/checkboxes\n",
    "Three checkboxes are provided:\n",
    "* Show individual cues: when enabled this will show the directional reference given by each individual cue (this can be a nice way of visualising the relative weight of each cue).\n",
    "* Enable/disable the legend: the legend positioning is not consistent as the plots are resized so they can occassionally obscure the plot. Checking this box will turn the legend on. I find the legends useful for reference but annoying once you know what the plot is showing.\n",
    "* Show sensory vectors: sensory vectors are the true geometric representation of the cues which indicate how the simulated beetle perceives the cues. These can be visualised by enabling this setting. For more information please see the General notebook (section \"How does the beetle get its bearing?\").\n",
    "\n",
    "#### Generic settings\n",
    "* Combination strategy: this defines the method used to combine the cues; currently implemented are:\n",
    "    * avg: simply take the average; and,\n",
    "    * wta: winner take all, the strongest cue wins (no decision can be made if there are multiple strongest).\n",
    "    * proj_wta: projected winner take all. The cue with the strongest sensory vector after projection into the ground plane. This accounts for a perceived strength difference of lights at different elevations.\n",
    "  \n",
    "  There are any number of strategies that could be implemented, these are simply the ones that I added during development. Again, see \"How does the beetle get its bearing?\" in the General notebook for more information.\n",
    "  \n",
    "* Confidence threshold: this represents the minimum magnitude required from the combined cue vector. If the magnitude of the combined cue is less than this threshold we can assume that the beetle would not actually have enough information to orient itself and discard the change in bearing. The default value was chosen based on the contrast experiments from \"Stellar performance: Mechanisms underlying milky way orientation in dung beetles\" (*Foster et al. 2017*), see the Example notebook. \n",
    "\n",
    "#### Cue setings\n",
    "Finally we provide individual cue configuration for each roll of the beetle. Each roll has a single light cue and some wind. For the light we can alter the strength, elevation, and azimuth. For the wind we can alter its strength and direction."
   ]
  },
  {
   "cell_type": "code",
   "execution_count": null,
   "metadata": {},
   "outputs": [],
   "source": []
  }
 ],
 "metadata": {
  "kernelspec": {
   "display_name": "Python 3",
   "language": "python",
   "name": "python3"
  },
  "language_info": {
   "codemirror_mode": {
    "name": "ipython",
    "version": 3
   },
   "file_extension": ".py",
   "mimetype": "text/x-python",
   "name": "python",
   "nbconvert_exporter": "python",
   "pygments_lexer": "ipython3",
   "version": "3.7.6"
  }
 },
 "nbformat": 4,
 "nbformat_minor": 2
}
